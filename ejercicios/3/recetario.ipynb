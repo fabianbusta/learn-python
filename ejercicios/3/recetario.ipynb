{
 "cells": [
  {
   "cell_type": "markdown",
   "metadata": {},
   "source": [
    "To-do\n",
    "\n",
    "1. Solicitar al usuario un número entero positivo.\n",
    "2. Verificar si el número ingresado es positivo.\n",
    "3. Inicializar un contador.\n",
    "4. Imprimir la tabla de multiplicar.\n",
    "   1. Utiliza un bucle `while` para iterar desde 1 hasta 10. En cada iteración del bucle, imprime la multiplicación del número ingresado por el contador `i`.\n",
    "   2. Incrementar el contador. En cada iteración incrementar el contador en 1. Esto nos asegura que al llegar a 10 se detendra."
   ]
  },
  {
   "cell_type": "code",
   "execution_count": 3,
   "metadata": {},
   "outputs": [
    {
     "name": "stdout",
     "output_type": "stream",
     "text": [
      "Tabla de multiplicar de 15\n",
      "15 x 1 = 15\n",
      "15 x 2 = 30\n",
      "15 x 3 = 45\n",
      "15 x 4 = 60\n",
      "15 x 5 = 75\n",
      "15 x 6 = 90\n",
      "15 x 7 = 105\n",
      "15 x 8 = 120\n",
      "15 x 9 = 135\n",
      "15 x 10 = 150\n"
     ]
    }
   ],
   "source": [
    "# Solicitar al usuario ingresar un número entero positivo\n",
    "numero = int(input(\"Ingresa un número entero positivo: \"))\n",
    "\n",
    "if numero < 0:\n",
    "    print(\"\")\n",
    "else:\n",
    "    # Inicializar el contador\n",
    "    i = 1\n",
    "\n",
    "    print(f\"Tabla de multiplicar de {numero}\")\n",
    "    while i <= 10:\n",
    "        print(f\"{numero} x {i} = {numero*i}\")\n",
    "         # Incrementar el contador\n",
    "        i += 1"
   ]
  }
 ],
 "metadata": {
  "kernelspec": {
   "display_name": "Python 3",
   "language": "python",
   "name": "python3"
  },
  "language_info": {
   "codemirror_mode": {
    "name": "ipython",
    "version": 3
   },
   "file_extension": ".py",
   "mimetype": "text/x-python",
   "name": "python",
   "nbconvert_exporter": "python",
   "pygments_lexer": "ipython3",
   "version": "3.11.6"
  }
 },
 "nbformat": 4,
 "nbformat_minor": 2
}
