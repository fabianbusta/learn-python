{
 "cells": [
  {
   "cell_type": "markdown",
   "metadata": {},
   "source": [
    "To-do\n",
    "\n",
    "1. Solicitar al usuario un número entero positivo.\n",
    "2. Verificar si el número ingresado es positivo.\n",
    "3. Inicializar un contador.\n",
    "4. Imprimir la tabla de multiplicar.\n",
    "   1. Utiliza un bucle `while` para iterar desde 1 hasta 10. En cada iteración del bucle, imprime la multiplicación del número ingresado por el contador `i`.\n",
    "   2. Incrementar el contador. En cada iteración incrementar el contador en 1. Esto nos asegura que al llegar a 10 se detendra."
   ]
  },
  {
   "cell_type": "code",
   "execution_count": 1,
   "metadata": {},
   "outputs": [
    {
     "name": "stdout",
     "output_type": "stream",
     "text": [
      "Tabla de multiplicar de 113\n",
      "113 x 1 = 113\n",
      "113 x 2 = 226\n",
      "113 x 3 = 339\n",
      "113 x 4 = 452\n",
      "113 x 5 = 565\n",
      "113 x 6 = 678\n",
      "113 x 7 = 791\n",
      "113 x 8 = 904\n",
      "113 x 9 = 1017\n",
      "113 x 10 = 1130\n"
     ]
    }
   ],
   "source": [
    "# Solicitar al usuario ingresar un número entero positivo\n",
    "numero = int(input(\"Ingresa un número entero positivo: \"))\n",
    "\n",
    "if numero < 0:\n",
    "    print(\"El número ingresado no es positivo.\")\n",
    "else:\n",
    "    # Inicializar el contador\n",
    "    contador = 1\n",
    "\n",
    "    print(f\"Tabla de multiplicar de {numero}\")\n",
    "    while contador <= 10:\n",
    "        print(f\"{numero} x {contador} = {numero*contador}\")\n",
    "         # Incrementar el contador\n",
    "        contador += 1"
   ]
  }
 ],
 "metadata": {
  "kernelspec": {
   "display_name": "Python 3",
   "language": "python",
   "name": "python3"
  },
  "language_info": {
   "codemirror_mode": {
    "name": "ipython",
    "version": 3
   },
   "file_extension": ".py",
   "mimetype": "text/x-python",
   "name": "python",
   "nbconvert_exporter": "python",
   "pygments_lexer": "ipython3",
   "version": "3.11.6"
  }
 },
 "nbformat": 4,
 "nbformat_minor": 2
}
