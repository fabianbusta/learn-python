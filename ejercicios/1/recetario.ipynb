{
 "cells": [
  {
   "cell_type": "markdown",
   "metadata": {},
   "source": [
    "To-do\n",
    "\n",
    "1. Solicitar al usuario un número entero positivo.\n",
    "2. Verificación si el número es positivo.\n",
    "3. Imprimir el contador regresivo.\n",
    "4. Finalizar el programa."
   ]
  },
  {
   "cell_type": "code",
   "execution_count": 2,
   "metadata": {},
   "outputs": [
    {
     "name": "stdout",
     "output_type": "stream",
     "text": [
      "Contador regresivo desde 9 hasta 0:\n",
      "9\n",
      "8\n",
      "7\n",
      "6\n",
      "5\n",
      "4\n",
      "3\n",
      "2\n",
      "1\n",
      "0\n"
     ]
    }
   ],
   "source": [
    "# Solicitar al usuario ingresar un número entero positivo\n",
    "contador = int(input(\"Introduce un número entero positivo: \"))\n",
    "\n",
    "# Controlar error si número no es entero.\n",
    "if contador < 0:\n",
    "    print(\"Por favor, introduce un número entero positivo.\")\n",
    "else:\n",
    "    print(f\"Contador regresivo desde {contador} hasta 0:\")\n",
    "    while contador >= 0:\n",
    "        print(contador)\n",
    "        contador -= 1 # Restar 1 al contador"
   ]
  }
 ],
 "metadata": {
  "kernelspec": {
   "display_name": "Python 3",
   "language": "python",
   "name": "python3"
  },
  "language_info": {
   "codemirror_mode": {
    "name": "ipython",
    "version": 3
   },
   "file_extension": ".py",
   "mimetype": "text/x-python",
   "name": "python",
   "nbconvert_exporter": "python",
   "pygments_lexer": "ipython3",
   "version": "3.11.6"
  }
 },
 "nbformat": 4,
 "nbformat_minor": 2
}
