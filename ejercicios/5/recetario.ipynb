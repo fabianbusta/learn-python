{
 "cells": [
  {
   "cell_type": "markdown",
   "metadata": {},
   "source": [
    "To-do\n",
    "\n",
    "1. Solicitar al usuario que ingrese un número entero positivo.\n",
    "2. Inicializar la variable de suma.\n",
    "3. Inicializar la variable de contador.\n",
    "4. Iniciar un bucle while para iterar a través de los números pares hasta el número ingresado.\n",
    "   1. Sumar el número actual a la suma total.\n",
    "   2. Incrementar el contador en 2 para pasar al siguiente número par.\n",
    "5. Imprimir la suma total de los números pares."
   ]
  },
  {
   "cell_type": "code",
   "execution_count": 7,
   "metadata": {},
   "outputs": [
    {
     "name": "stdout",
     "output_type": "stream",
     "text": [
      "La suma de todos los números pares hasta 10 es: 30\n"
     ]
    }
   ],
   "source": [
    "# Solicitar al usuario ingresar un número entero positivo\n",
    "numero = int(input(\"Ingresa un número entero positivo: \"))\n",
    "\n",
    "# Inicializar la variable de sumar\n",
    "suma = 0\n",
    "contador = 1\n",
    "\n",
    "while contador <= numero:\n",
    "    if contador % 2 == 0:\n",
    "        suma += contador\n",
    "    contador += 1\n",
    "    \n",
    "print(f\"La suma de todos los números pares hasta {numero} es: {suma}\")"
   ]
  },
  {
   "cell_type": "code",
   "execution_count": 10,
   "metadata": {},
   "outputs": [
    {
     "name": "stdout",
     "output_type": "stream",
     "text": [
      "La suma de todos los números pares hasta 10 es: 30\n"
     ]
    }
   ],
   "source": [
    "# Solicitar al usuario ingresar un número entero positivo\n",
    "numero = int(input(\"Ingresa un número entero positivo: \"))\n",
    "\n",
    "# Inicializar la variable de suma\n",
    "suma = 0\n",
    "\n",
    "# Empezamos desde el primer número par, que es 2\n",
    "contador = 2\n",
    "\n",
    "# Mientras el contador sea menor o \n",
    "# igual al numero se cumple la condición\n",
    "while contador <= numero:\n",
    "    # Sumar el número actual a la suma total\n",
    "    suma += contador\n",
    "    # Incrementar el contador en 2 para pasar al siguiente número par\n",
    "    contador += 2\n",
    "    \n",
    "print(f\"La suma de todos los números pares hasta {numero} es: {suma}\")"
   ]
  }
 ],
 "metadata": {
  "kernelspec": {
   "display_name": "Python 3",
   "language": "python",
   "name": "python3"
  },
  "language_info": {
   "codemirror_mode": {
    "name": "ipython",
    "version": 3
   },
   "file_extension": ".py",
   "mimetype": "text/x-python",
   "name": "python",
   "nbconvert_exporter": "python",
   "pygments_lexer": "ipython3",
   "version": "3.11.6"
  }
 },
 "nbformat": 4,
 "nbformat_minor": 2
}
