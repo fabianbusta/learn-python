{
 "cells": [
  {
   "cell_type": "markdown",
   "metadata": {},
   "source": [
    "To-do\n",
    "\n",
    "1. Inicialización de la variable de la suma.\n",
    "2. Solicitud de números al usuario.\n",
    "   1. Entrada de números del usuario: Utiliza un bucle `while` y configura un bucle infinito. El cual en cada iteración preguntará por un número.\n",
    "   2. Verificación de salida: Si el numero es igual a cero este debe detener el bucle con `break`. \n",
    "   3. Suma de los numeros: Sumar el numero a la variable de suma para agregar todos los valores.\n",
    "3. Mostrar el resultado."
   ]
  },
  {
   "cell_type": "code",
   "execution_count": 1,
   "metadata": {},
   "outputs": [
    {
     "name": "stdout",
     "output_type": "stream",
     "text": [
      "Ingresa una serie de números enteros. Para detener la suma, ingresa 0.\n",
      "La suma de los números ingresados es: 60\n"
     ]
    }
   ],
   "source": [
    "# Inicializamos la variable de suma en cero\n",
    "suma_total = 0\n",
    "\n",
    "print(\"Ingresa una serie de números enteros. Para detener la suma, ingresa 0.\")\n",
    "while True:\n",
    "    num = int(input(\"Ingresa un número entero: \"))\n",
    "    \n",
    "    if num < 0:\n",
    "        print(\"Por favor, introduce un número entero positivo.\")\n",
    "    else:\n",
    "        if num == 0:\n",
    "            break\n",
    "        \n",
    "        suma_total += num\n",
    "    \n",
    "print(f\"La suma de los números ingresados es: {suma_total}\")"
   ]
  }
 ],
 "metadata": {
  "kernelspec": {
   "display_name": "Python 3",
   "language": "python",
   "name": "python3"
  },
  "language_info": {
   "codemirror_mode": {
    "name": "ipython",
    "version": 3
   },
   "file_extension": ".py",
   "mimetype": "text/x-python",
   "name": "python",
   "nbconvert_exporter": "python",
   "pygments_lexer": "ipython3",
   "version": "3.11.6"
  }
 },
 "nbformat": 4,
 "nbformat_minor": 2
}
