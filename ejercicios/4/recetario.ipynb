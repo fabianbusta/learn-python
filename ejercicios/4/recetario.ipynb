{
 "cells": [
  {
   "cell_type": "markdown",
   "metadata": {},
   "source": [
    "To-do\n",
    "\n",
    "1. Solicitar al usuario un número entero positivo.\n",
    "2. Verificar si el número ingresado es positivo.\n",
    "3. Inicializar la variable factorial. (Debe comenzar en 1, ya que el factorial de 0 es 1, y el de 1 es 1, así sucesivamente)\n",
    "4. Inicializar un contador.\n",
    "5. Calcular el factorial.\n",
    "6. Imprimir el resultado."
   ]
  },
  {
   "cell_type": "code",
   "execution_count": 1,
   "metadata": {},
   "outputs": [
    {
     "name": "stdout",
     "output_type": "stream",
     "text": [
      "El factorial de 4 es: 24\n"
     ]
    }
   ],
   "source": [
    "# Solicitar al usuario ingresar un número entero positivo\n",
    "numero = int(input(\"Ingresa un número entero positivo: \"))\n",
    "\n",
    "# Verificar si el número ingresado es positivo\n",
    "if numero < 0:\n",
    "    print(\"El número ingresado no es positivo.\")\n",
    "else:\n",
    "    factorial = 1\n",
    "    contador = 1\n",
    "    \n",
    "    # Calcular el factorial del número\n",
    "    # ingresado usando un bucle while\n",
    "    while contador <= numero:\n",
    "        factorial *= contador\n",
    "        contador += 1\n",
    "    \n",
    "    print(f\"El factorial de {numero} es: {factorial}\")\n",
    "    "
   ]
  }
 ],
 "metadata": {
  "kernelspec": {
   "display_name": "Python 3",
   "language": "python",
   "name": "python3"
  },
  "language_info": {
   "codemirror_mode": {
    "name": "ipython",
    "version": 3
   },
   "file_extension": ".py",
   "mimetype": "text/x-python",
   "name": "python",
   "nbconvert_exporter": "python",
   "pygments_lexer": "ipython3",
   "version": "3.11.6"
  }
 },
 "nbformat": 4,
 "nbformat_minor": 2
}
